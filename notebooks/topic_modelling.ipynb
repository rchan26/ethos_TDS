{
 "cells": [
  {
   "cell_type": "code",
   "execution_count": 5,
   "id": "288e152f",
   "metadata": {},
   "outputs": [],
   "source": [
    "import numpy as np\n",
    "import pandas as pd\n",
    "from matplotlib import pyplot as plt\n",
    "seed = 2022"
   ]
  },
  {
   "cell_type": "code",
   "execution_count": 6,
   "id": "b6646630",
   "metadata": {},
   "outputs": [
    {
     "name": "stderr",
     "output_type": "stream",
     "text": [
      "/var/folders/l7/bnn1j6bs3bqfskq2jlq55yh80000gr/T/ipykernel_55614/740333908.py:2: DtypeWarning: Columns (8) have mixed types. Specify dtype option on import or set low_memory=False.\n",
      "  df = pd.read_csv(csv_file, encoding=\"ISO-8859-2\")\n"
     ]
    },
    {
     "data": {
      "text/html": [
       "<div>\n",
       "<style scoped>\n",
       "    .dataframe tbody tr th:only-of-type {\n",
       "        vertical-align: middle;\n",
       "    }\n",
       "\n",
       "    .dataframe tbody tr th {\n",
       "        vertical-align: top;\n",
       "    }\n",
       "\n",
       "    .dataframe thead th {\n",
       "        text-align: right;\n",
       "    }\n",
       "</style>\n",
       "<table border=\"1\" class=\"dataframe\">\n",
       "  <thead>\n",
       "    <tr style=\"text-align: right;\">\n",
       "      <th></th>\n",
       "      <th>Unnamed: 0</th>\n",
       "      <th>Title</th>\n",
       "      <th>DOI</th>\n",
       "      <th>Author</th>\n",
       "      <th>Author ISNI</th>\n",
       "      <th>ORCID</th>\n",
       "      <th>Institution</th>\n",
       "      <th>Institution ISNI</th>\n",
       "      <th>Date</th>\n",
       "      <th>Qualification</th>\n",
       "      <th>Abstract</th>\n",
       "      <th>Subject Discipline</th>\n",
       "      <th>Supervisor(s)</th>\n",
       "      <th>Funder(s)</th>\n",
       "      <th>EThOS URL</th>\n",
       "      <th>IR URL</th>\n",
       "    </tr>\n",
       "  </thead>\n",
       "  <tbody>\n",
       "    <tr>\n",
       "      <th>0</th>\n",
       "      <td>0</td>\n",
       "      <td>Computation and measurement of turbulent flow ...</td>\n",
       "      <td></td>\n",
       "      <td>Loizou, Panos A.</td>\n",
       "      <td>https://isni.org/isni/0000000136122593</td>\n",
       "      <td></td>\n",
       "      <td>University of Manchester</td>\n",
       "      <td>https://isni.org/isni/0000000121662407</td>\n",
       "      <td>1989</td>\n",
       "      <td>Thesis (Ph.D.)</td>\n",
       "      <td></td>\n",
       "      <td>Physical Sciences</td>\n",
       "      <td></td>\n",
       "      <td></td>\n",
       "      <td>https://ethos.bl.uk/OrderDetails.do?uin=uk.bl....</td>\n",
       "      <td></td>\n",
       "    </tr>\n",
       "    <tr>\n",
       "      <th>1</th>\n",
       "      <td>1</td>\n",
       "      <td>Prolactin and growth hormone secretion in norm...</td>\n",
       "      <td></td>\n",
       "      <td>Prescott, R. W. G.</td>\n",
       "      <td>https://isni.org/isni/0000000134992122</td>\n",
       "      <td></td>\n",
       "      <td>University of Newcastle upon Tyne</td>\n",
       "      <td>https://isni.org/isni/0000000104627212</td>\n",
       "      <td>1983</td>\n",
       "      <td>Thesis (Ph.D.)</td>\n",
       "      <td></td>\n",
       "      <td>Biological Sciences</td>\n",
       "      <td></td>\n",
       "      <td></td>\n",
       "      <td>https://ethos.bl.uk/OrderDetails.do?uin=uk.bl....</td>\n",
       "      <td></td>\n",
       "    </tr>\n",
       "    <tr>\n",
       "      <th>2</th>\n",
       "      <td>2</td>\n",
       "      <td>Influence of strain fields on flame propagation</td>\n",
       "      <td></td>\n",
       "      <td>Mendes-Lopes, J. M. C.</td>\n",
       "      <td>https://isni.org/isni/0000000133937105</td>\n",
       "      <td></td>\n",
       "      <td>University of Cambridge</td>\n",
       "      <td>https://isni.org/isni/0000000121885934</td>\n",
       "      <td>1983</td>\n",
       "      <td>Thesis (Ph.D.)</td>\n",
       "      <td>Flame propagation can be highly influenced by ...</td>\n",
       "      <td>Engineering &amp; Technology</td>\n",
       "      <td></td>\n",
       "      <td></td>\n",
       "      <td>https://ethos.bl.uk/OrderDetails.do?uin=uk.bl....</td>\n",
       "      <td></td>\n",
       "    </tr>\n",
       "    <tr>\n",
       "      <th>3</th>\n",
       "      <td>3</td>\n",
       "      <td>Connectivity, flow and transport in network mo...</td>\n",
       "      <td></td>\n",
       "      <td>Robinson, Peter Clive</td>\n",
       "      <td>https://isni.org/isni/0000000135292822</td>\n",
       "      <td></td>\n",
       "      <td>University of Oxford</td>\n",
       "      <td>https://isni.org/isni/0000000419368948</td>\n",
       "      <td>1984</td>\n",
       "      <td>Thesis (Ph.D.)</td>\n",
       "      <td>In order to evaluate the safety of radioactive...</td>\n",
       "      <td>Physical Sciences</td>\n",
       "      <td>Rae, John</td>\n",
       "      <td></td>\n",
       "      <td>https://ethos.bl.uk/OrderDetails.do?uin=uk.bl....</td>\n",
       "      <td>http://ora.ox.ac.uk/objects/uuid:c61bf73b-b794...</td>\n",
       "    </tr>\n",
       "    <tr>\n",
       "      <th>4</th>\n",
       "      <td>4</td>\n",
       "      <td>The theory and implementation of a high qualit...</td>\n",
       "      <td></td>\n",
       "      <td>Lower, K. N.</td>\n",
       "      <td>https://isni.org/isni/0000000136133567</td>\n",
       "      <td></td>\n",
       "      <td>University of Bristol</td>\n",
       "      <td>https://isni.org/isni/0000000419367603</td>\n",
       "      <td>1985</td>\n",
       "      <td>Thesis (Ph.D.)</td>\n",
       "      <td></td>\n",
       "      <td>Engineering &amp; Technology</td>\n",
       "      <td></td>\n",
       "      <td></td>\n",
       "      <td>https://ethos.bl.uk/OrderDetails.do?uin=uk.bl....</td>\n",
       "      <td></td>\n",
       "    </tr>\n",
       "  </tbody>\n",
       "</table>\n",
       "</div>"
      ],
      "text/plain": [
       "   Unnamed: 0                                              Title DOI  \\\n",
       "0           0  Computation and measurement of turbulent flow ...       \n",
       "1           1  Prolactin and growth hormone secretion in norm...       \n",
       "2           2    Influence of strain fields on flame propagation       \n",
       "3           3  Connectivity, flow and transport in network mo...       \n",
       "4           4  The theory and implementation of a high qualit...       \n",
       "\n",
       "                   Author                             Author ISNI ORCID  \\\n",
       "0        Loizou, Panos A.  https://isni.org/isni/0000000136122593         \n",
       "1      Prescott, R. W. G.  https://isni.org/isni/0000000134992122         \n",
       "2  Mendes-Lopes, J. M. C.  https://isni.org/isni/0000000133937105         \n",
       "3   Robinson, Peter Clive  https://isni.org/isni/0000000135292822         \n",
       "4            Lower, K. N.  https://isni.org/isni/0000000136133567         \n",
       "\n",
       "                         Institution                        Institution ISNI  \\\n",
       "0           University of Manchester  https://isni.org/isni/0000000121662407   \n",
       "1  University of Newcastle upon Tyne  https://isni.org/isni/0000000104627212   \n",
       "2            University of Cambridge  https://isni.org/isni/0000000121885934   \n",
       "3               University of Oxford  https://isni.org/isni/0000000419368948   \n",
       "4              University of Bristol  https://isni.org/isni/0000000419367603   \n",
       "\n",
       "   Date   Qualification                                           Abstract  \\\n",
       "0  1989  Thesis (Ph.D.)                                                      \n",
       "1  1983  Thesis (Ph.D.)                                                      \n",
       "2  1983  Thesis (Ph.D.)  Flame propagation can be highly influenced by ...   \n",
       "3  1984  Thesis (Ph.D.)  In order to evaluate the safety of radioactive...   \n",
       "4  1985  Thesis (Ph.D.)                                                      \n",
       "\n",
       "         Subject Discipline Supervisor(s) Funder(s)  \\\n",
       "0         Physical Sciences                           \n",
       "1       Biological Sciences                           \n",
       "2  Engineering & Technology                           \n",
       "3         Physical Sciences     Rae, John             \n",
       "4  Engineering & Technology                           \n",
       "\n",
       "                                           EThOS URL  \\\n",
       "0  https://ethos.bl.uk/OrderDetails.do?uin=uk.bl....   \n",
       "1  https://ethos.bl.uk/OrderDetails.do?uin=uk.bl....   \n",
       "2  https://ethos.bl.uk/OrderDetails.do?uin=uk.bl....   \n",
       "3  https://ethos.bl.uk/OrderDetails.do?uin=uk.bl....   \n",
       "4  https://ethos.bl.uk/OrderDetails.do?uin=uk.bl....   \n",
       "\n",
       "                                              IR URL  \n",
       "0                                                     \n",
       "1                                                     \n",
       "2                                                     \n",
       "3  http://ora.ox.ac.uk/objects/uuid:c61bf73b-b794...  \n",
       "4                                                     "
      ]
     },
     "execution_count": 6,
     "metadata": {},
     "output_type": "execute_result"
    }
   ],
   "source": [
    "csv_file = \"cleaned_EThOS_CSV_202210.csv\"\n",
    "df = pd.read_csv(csv_file, encoding=\"ISO-8859-2\")\n",
    "df.head()"
   ]
  },
  {
   "cell_type": "markdown",
   "id": "0416ac97",
   "metadata": {},
   "source": [
    "## Create new column concatenating Title and Abstract"
   ]
  },
  {
   "cell_type": "code",
   "execution_count": 52,
   "id": "cad41cb4",
   "metadata": {},
   "outputs": [],
   "source": [
    "df[\"Text\"] = df[\"Title\"] + ' ' + df[\"Abstract\"]"
   ]
  },
  {
   "cell_type": "markdown",
   "id": "f97c1b13",
   "metadata": {},
   "source": [
    "## Tokenizing the text using Spacy"
   ]
  },
  {
   "cell_type": "code",
   "execution_count": 56,
   "id": "891b5000",
   "metadata": {},
   "outputs": [],
   "source": [
    "import spacy\n",
    "nlp = spacy.load('en_core_web_md')"
   ]
  },
  {
   "cell_type": "code",
   "execution_count": 57,
   "id": "406d3657",
   "metadata": {},
   "outputs": [],
   "source": [
    "docs = list(nlp.pipe(df[\"Text\"], n_process=6))"
   ]
  },
  {
   "cell_type": "code",
   "execution_count": 59,
   "id": "dea0a0ce",
   "metadata": {},
   "outputs": [],
   "source": [
    "df[\"Tokens\"] = [[token.lemma_.lower() for token in doc\n",
    "                 if not token.is_stop and token.is_alpha and token.is_ascii]\n",
    "                for doc in docs]"
   ]
  },
  {
   "cell_type": "code",
   "execution_count": 63,
   "id": "9ac1357d",
   "metadata": {},
   "outputs": [
    {
     "data": {
      "text/html": [
       "<div>\n",
       "<style scoped>\n",
       "    .dataframe tbody tr th:only-of-type {\n",
       "        vertical-align: middle;\n",
       "    }\n",
       "\n",
       "    .dataframe tbody tr th {\n",
       "        vertical-align: top;\n",
       "    }\n",
       "\n",
       "    .dataframe thead th {\n",
       "        text-align: right;\n",
       "    }\n",
       "</style>\n",
       "<table border=\"1\" class=\"dataframe\">\n",
       "  <thead>\n",
       "    <tr style=\"text-align: right;\">\n",
       "      <th></th>\n",
       "      <th>Unnamed: 0</th>\n",
       "      <th>Title</th>\n",
       "      <th>DOI</th>\n",
       "      <th>Author</th>\n",
       "      <th>Author ISNI</th>\n",
       "      <th>ORCID</th>\n",
       "      <th>Institution</th>\n",
       "      <th>Institution ISNI</th>\n",
       "      <th>Date</th>\n",
       "      <th>Qualification</th>\n",
       "      <th>Abstract</th>\n",
       "      <th>Subject Discipline</th>\n",
       "      <th>Supervisor(s)</th>\n",
       "      <th>Funder(s)</th>\n",
       "      <th>EThOS URL</th>\n",
       "      <th>IR URL</th>\n",
       "      <th>Text</th>\n",
       "      <th>Tokens</th>\n",
       "    </tr>\n",
       "  </thead>\n",
       "  <tbody>\n",
       "    <tr>\n",
       "      <th>0</th>\n",
       "      <td>0</td>\n",
       "      <td>Computation and measurement of turbulent flow ...</td>\n",
       "      <td></td>\n",
       "      <td>Loizou, Panos A.</td>\n",
       "      <td>https://isni.org/isni/0000000136122593</td>\n",
       "      <td></td>\n",
       "      <td>University of Manchester</td>\n",
       "      <td>https://isni.org/isni/0000000121662407</td>\n",
       "      <td>1989</td>\n",
       "      <td>Thesis (Ph.D.)</td>\n",
       "      <td></td>\n",
       "      <td>Physical Sciences</td>\n",
       "      <td></td>\n",
       "      <td></td>\n",
       "      <td>https://ethos.bl.uk/OrderDetails.do?uin=uk.bl....</td>\n",
       "      <td></td>\n",
       "      <td>Computation and measurement of turbulent flow ...</td>\n",
       "      <td>[computation, measurement, turbulent, flow, id...</td>\n",
       "    </tr>\n",
       "    <tr>\n",
       "      <th>1</th>\n",
       "      <td>1</td>\n",
       "      <td>Prolactin and growth hormone secretion in norm...</td>\n",
       "      <td></td>\n",
       "      <td>Prescott, R. W. G.</td>\n",
       "      <td>https://isni.org/isni/0000000134992122</td>\n",
       "      <td></td>\n",
       "      <td>University of Newcastle upon Tyne</td>\n",
       "      <td>https://isni.org/isni/0000000104627212</td>\n",
       "      <td>1983</td>\n",
       "      <td>Thesis (Ph.D.)</td>\n",
       "      <td></td>\n",
       "      <td>Biological Sciences</td>\n",
       "      <td></td>\n",
       "      <td></td>\n",
       "      <td>https://ethos.bl.uk/OrderDetails.do?uin=uk.bl....</td>\n",
       "      <td></td>\n",
       "      <td>Prolactin and growth hormone secretion in norm...</td>\n",
       "      <td>[prolactin, growth, hormone, secretion, normal...</td>\n",
       "    </tr>\n",
       "    <tr>\n",
       "      <th>2</th>\n",
       "      <td>2</td>\n",
       "      <td>Influence of strain fields on flame propagation</td>\n",
       "      <td></td>\n",
       "      <td>Mendes-Lopes, J. M. C.</td>\n",
       "      <td>https://isni.org/isni/0000000133937105</td>\n",
       "      <td></td>\n",
       "      <td>University of Cambridge</td>\n",
       "      <td>https://isni.org/isni/0000000121885934</td>\n",
       "      <td>1983</td>\n",
       "      <td>Thesis (Ph.D.)</td>\n",
       "      <td>Flame propagation can be highly influenced by ...</td>\n",
       "      <td>Engineering &amp; Technology</td>\n",
       "      <td></td>\n",
       "      <td></td>\n",
       "      <td>https://ethos.bl.uk/OrderDetails.do?uin=uk.bl....</td>\n",
       "      <td></td>\n",
       "      <td>Influence of strain fields on flame propagatio...</td>\n",
       "      <td>[influence, strain, field, flame, propagation,...</td>\n",
       "    </tr>\n",
       "    <tr>\n",
       "      <th>3</th>\n",
       "      <td>3</td>\n",
       "      <td>Connectivity, flow and transport in network mo...</td>\n",
       "      <td></td>\n",
       "      <td>Robinson, Peter Clive</td>\n",
       "      <td>https://isni.org/isni/0000000135292822</td>\n",
       "      <td></td>\n",
       "      <td>University of Oxford</td>\n",
       "      <td>https://isni.org/isni/0000000419368948</td>\n",
       "      <td>1984</td>\n",
       "      <td>Thesis (Ph.D.)</td>\n",
       "      <td>In order to evaluate the safety of radioactive...</td>\n",
       "      <td>Physical Sciences</td>\n",
       "      <td>Rae, John</td>\n",
       "      <td></td>\n",
       "      <td>https://ethos.bl.uk/OrderDetails.do?uin=uk.bl....</td>\n",
       "      <td>http://ora.ox.ac.uk/objects/uuid:c61bf73b-b794...</td>\n",
       "      <td>Connectivity, flow and transport in network mo...</td>\n",
       "      <td>[connectivity, flow, transport, network, model...</td>\n",
       "    </tr>\n",
       "    <tr>\n",
       "      <th>4</th>\n",
       "      <td>4</td>\n",
       "      <td>The theory and implementation of a high qualit...</td>\n",
       "      <td></td>\n",
       "      <td>Lower, K. N.</td>\n",
       "      <td>https://isni.org/isni/0000000136133567</td>\n",
       "      <td></td>\n",
       "      <td>University of Bristol</td>\n",
       "      <td>https://isni.org/isni/0000000419367603</td>\n",
       "      <td>1985</td>\n",
       "      <td>Thesis (Ph.D.)</td>\n",
       "      <td></td>\n",
       "      <td>Engineering &amp; Technology</td>\n",
       "      <td></td>\n",
       "      <td></td>\n",
       "      <td>https://ethos.bl.uk/OrderDetails.do?uin=uk.bl....</td>\n",
       "      <td></td>\n",
       "      <td>The theory and implementation of a high qualit...</td>\n",
       "      <td>[theory, implementation, high, quality, pulse,...</td>\n",
       "    </tr>\n",
       "  </tbody>\n",
       "</table>\n",
       "</div>"
      ],
      "text/plain": [
       "   Unnamed: 0                                              Title DOI  \\\n",
       "0           0  Computation and measurement of turbulent flow ...       \n",
       "1           1  Prolactin and growth hormone secretion in norm...       \n",
       "2           2    Influence of strain fields on flame propagation       \n",
       "3           3  Connectivity, flow and transport in network mo...       \n",
       "4           4  The theory and implementation of a high qualit...       \n",
       "\n",
       "                   Author                             Author ISNI ORCID  \\\n",
       "0        Loizou, Panos A.  https://isni.org/isni/0000000136122593         \n",
       "1      Prescott, R. W. G.  https://isni.org/isni/0000000134992122         \n",
       "2  Mendes-Lopes, J. M. C.  https://isni.org/isni/0000000133937105         \n",
       "3   Robinson, Peter Clive  https://isni.org/isni/0000000135292822         \n",
       "4            Lower, K. N.  https://isni.org/isni/0000000136133567         \n",
       "\n",
       "                         Institution                        Institution ISNI  \\\n",
       "0           University of Manchester  https://isni.org/isni/0000000121662407   \n",
       "1  University of Newcastle upon Tyne  https://isni.org/isni/0000000104627212   \n",
       "2            University of Cambridge  https://isni.org/isni/0000000121885934   \n",
       "3               University of Oxford  https://isni.org/isni/0000000419368948   \n",
       "4              University of Bristol  https://isni.org/isni/0000000419367603   \n",
       "\n",
       "   Date   Qualification                                           Abstract  \\\n",
       "0  1989  Thesis (Ph.D.)                                                      \n",
       "1  1983  Thesis (Ph.D.)                                                      \n",
       "2  1983  Thesis (Ph.D.)  Flame propagation can be highly influenced by ...   \n",
       "3  1984  Thesis (Ph.D.)  In order to evaluate the safety of radioactive...   \n",
       "4  1985  Thesis (Ph.D.)                                                      \n",
       "\n",
       "         Subject Discipline Supervisor(s) Funder(s)  \\\n",
       "0         Physical Sciences                           \n",
       "1       Biological Sciences                           \n",
       "2  Engineering & Technology                           \n",
       "3         Physical Sciences     Rae, John             \n",
       "4  Engineering & Technology                           \n",
       "\n",
       "                                           EThOS URL  \\\n",
       "0  https://ethos.bl.uk/OrderDetails.do?uin=uk.bl....   \n",
       "1  https://ethos.bl.uk/OrderDetails.do?uin=uk.bl....   \n",
       "2  https://ethos.bl.uk/OrderDetails.do?uin=uk.bl....   \n",
       "3  https://ethos.bl.uk/OrderDetails.do?uin=uk.bl....   \n",
       "4  https://ethos.bl.uk/OrderDetails.do?uin=uk.bl....   \n",
       "\n",
       "                                              IR URL  \\\n",
       "0                                                      \n",
       "1                                                      \n",
       "2                                                      \n",
       "3  http://ora.ox.ac.uk/objects/uuid:c61bf73b-b794...   \n",
       "4                                                      \n",
       "\n",
       "                                                Text  \\\n",
       "0  Computation and measurement of turbulent flow ...   \n",
       "1  Prolactin and growth hormone secretion in norm...   \n",
       "2  Influence of strain fields on flame propagatio...   \n",
       "3  Connectivity, flow and transport in network mo...   \n",
       "4  The theory and implementation of a high qualit...   \n",
       "\n",
       "                                              Tokens  \n",
       "0  [computation, measurement, turbulent, flow, id...  \n",
       "1  [prolactin, growth, hormone, secretion, normal...  \n",
       "2  [influence, strain, field, flame, propagation,...  \n",
       "3  [connectivity, flow, transport, network, model...  \n",
       "4  [theory, implementation, high, quality, pulse,...  "
      ]
     },
     "execution_count": 63,
     "metadata": {},
     "output_type": "execute_result"
    }
   ],
   "source": [
    "df.head()"
   ]
  },
  {
   "cell_type": "markdown",
   "id": "b6156c5d",
   "metadata": {},
   "source": [
    "Want to also work with Bigrams as only considering individual words can miss some things. Could maybe go further but will see what this does..."
   ]
  },
  {
   "cell_type": "code",
   "execution_count": 73,
   "id": "b3d44d49",
   "metadata": {},
   "outputs": [],
   "source": [
    "df[\"Tokens_with_Bigrams\"] = [toks + [toks[i] + '-' + toks[i+1] for i in range(len(toks)-1)]\n",
    "                             if len(toks) > 1 else toks\n",
    "                             for toks in df[\"Tokens\"]]"
   ]
  },
  {
   "cell_type": "code",
   "execution_count": 85,
   "id": "f8863401",
   "metadata": {},
   "outputs": [],
   "source": [
    "df.to_pickle(\"../EThOS_CSV_202210_with_tokens.pkl\")"
   ]
  },
  {
   "cell_type": "markdown",
   "id": "665a688e",
   "metadata": {},
   "source": [
    "## Using Gensim for LDA"
   ]
  },
  {
   "cell_type": "code",
   "execution_count": null,
   "id": "3fc0d987",
   "metadata": {},
   "outputs": [],
   "source": [
    "csv_file = \"EThOS_CSV_202210_with_tokens.csv\"\n",
    "df = pd.read_csv(csv_file, encoding=\"ISO-8859-2\")\n",
    "df.head()"
   ]
  },
  {
   "cell_type": "code",
   "execution_count": 147,
   "id": "9943d327",
   "metadata": {},
   "outputs": [],
   "source": [
    "import gensim\n",
    "from gensim.corpora import Dictionary\n",
    "from gensim.models import LdaModel, LdaMulticore, CoherenceModel, LsiModel, HdpModel"
   ]
  },
  {
   "cell_type": "markdown",
   "id": "93c12c19",
   "metadata": {},
   "source": [
    "With Latent Dirichlet Allocation (LDA), the goal is to learn the topic mix in each document, and the word mix in each document. So we first define the number of topics, which has a distribution over the words in the dictionary. We also can obtain a distribution of topics for each document. We can get `gensim` to do this for us.\n",
    "\n",
    "To perform LDA, I need to obtain a dictionary (give each token a unique ID), and a corpus which contains each ID and its frequency."
   ]
  },
  {
   "cell_type": "markdown",
   "id": "7e819390",
   "metadata": {},
   "source": [
    "Here, we also just focus on a particular subject (Computer Science)"
   ]
  },
  {
   "cell_type": "code",
   "execution_count": 176,
   "id": "1b9b9462",
   "metadata": {},
   "outputs": [],
   "source": [
    "comp_sci_df = df[df[\"Subject Discipline\"] == \"Computer Science\"]\n",
    "tokens = comp_sci_df[\"Tokens_with_Bigrams\"]"
   ]
  },
  {
   "cell_type": "code",
   "execution_count": 177,
   "id": "b2d9494f",
   "metadata": {},
   "outputs": [],
   "source": [
    "# maps each word to their unique ID\n",
    "dictionary = Dictionary(tokens)"
   ]
  },
  {
   "cell_type": "code",
   "execution_count": 178,
   "id": "0ec29a16",
   "metadata": {},
   "outputs": [
    {
     "data": {
      "text/plain": [
       "594661"
      ]
     },
     "execution_count": 178,
     "metadata": {},
     "output_type": "execute_result"
    }
   ],
   "source": [
    "len(dictionary)"
   ]
  },
  {
   "cell_type": "markdown",
   "id": "478c0b85",
   "metadata": {},
   "source": [
    "Here, I want to filter out any low-frequency and high-frequency tokens. In particular, I take out any words that appear in less than 5 documents and any words that appear in more than 50% of the documents. To reduce computation, we also only keep the 100000 most frequent tokens after those removals."
   ]
  },
  {
   "cell_type": "code",
   "execution_count": 179,
   "id": "b48673e5",
   "metadata": {},
   "outputs": [],
   "source": [
    "dictionary.filter_extremes(no_below=5, no_above=0.4, keep_n=None)"
   ]
  },
  {
   "cell_type": "code",
   "execution_count": 180,
   "id": "760f6655",
   "metadata": {},
   "outputs": [
    {
     "data": {
      "text/plain": [
       "33360"
      ]
     },
     "execution_count": 180,
     "metadata": {},
     "output_type": "execute_result"
    }
   ],
   "source": [
    "len(dictionary)"
   ]
  },
  {
   "cell_type": "code",
   "execution_count": 181,
   "id": "83831364",
   "metadata": {},
   "outputs": [
    {
     "data": {
      "text/plain": [
       "0.5986389834039303"
      ]
     },
     "execution_count": 181,
     "metadata": {},
     "output_type": "execute_result"
    }
   ],
   "source": [
    "sum([tok.count('thesis') for tok in tokens]) / len(tokens)"
   ]
  },
  {
   "cell_type": "code",
   "execution_count": 185,
   "id": "734269d9",
   "metadata": {},
   "outputs": [
    {
     "data": {
      "text/plain": [
       "0.9902090132629678"
      ]
     },
     "execution_count": 185,
     "metadata": {},
     "output_type": "execute_result"
    }
   ],
   "source": [
    "sum([tok.count('system') for tok in tokens]) / len(tokens)"
   ]
  },
  {
   "cell_type": "code",
   "execution_count": 182,
   "id": "36c3b063",
   "metadata": {},
   "outputs": [],
   "source": [
    "corpus = [dictionary.doc2bow(doc) for doc in tokens]"
   ]
  },
  {
   "cell_type": "code",
   "execution_count": 190,
   "id": "d2f2bf4c",
   "metadata": {},
   "outputs": [
    {
     "data": {
      "text/plain": [
       "<gensim.corpora.dictionary.Dictionary at 0x71b6eb52a0>"
      ]
     },
     "execution_count": 190,
     "metadata": {},
     "output_type": "execute_result"
    }
   ],
   "source": [
    "dictionary"
   ]
  },
  {
   "cell_type": "markdown",
   "id": "b57db411",
   "metadata": {},
   "source": [
    "Implement LDA with various number of topics and compute it's _coherence score_ (value between $0$ and $1$)."
   ]
  },
  {
   "cell_type": "code",
   "execution_count": 149,
   "id": "82a2d7de",
   "metadata": {},
   "outputs": [
    {
     "name": "stdout",
     "output_type": "stream",
     "text": [
      "i: 1 || Score: 0.6540012554007414\n",
      "i: 2 || Score: 0.6365881302706393\n",
      "i: 3 || Score: 0.6325665975901189\n",
      "i: 4 || Score: 0.6326292165189437\n",
      "i: 5 || Score: 0.6249367110055484\n",
      "i: 6 || Score: 0.6213872194789567\n",
      "i: 7 || Score: 0.6030184475857175\n",
      "i: 8 || Score: 0.6075472624781378\n",
      "i: 9 || Score: 0.6231297641458338\n",
      "i: 10 || Score: 0.617363139690152\n",
      "i: 11 || Score: 0.624208631920234\n",
      "i: 12 || Score: 0.6173774847736508\n",
      "i: 13 || Score: 0.6126924322310952\n",
      "i: 14 || Score: 0.6113724347804703\n",
      "i: 15 || Score: 0.6076449489243234\n",
      "i: 16 || Score: 0.6118835456797758\n",
      "i: 17 || Score: 0.6043500786876335\n",
      "i: 18 || Score: 0.61294321806786\n",
      "i: 19 || Score: 0.599206156768417\n",
      "i: 20 || Score: 0.5982687860052383\n"
     ]
    },
    {
     "data": {
      "image/png": "[encoded data removed]",
      "text/plain": [
       "<Figure size 640x480 with 1 Axes>"
      ]
     },
     "metadata": {},
     "output_type": "display_data"
    }
   ],
   "source": [
    "topics = list(range(1,21))\n",
    "score = []\n",
    "for i in topics:\n",
    "    lda_model = LdaMulticore(corpus=corpus,\n",
    "                             id2word=dictionary,\n",
    "                             iterations=10,\n",
    "                             num_topics=i,\n",
    "                             passes=10,\n",
    "                             workers=6,\n",
    "                             random_state=100)\n",
    "    cm = CoherenceModel(model=lda_model,\n",
    "                        texts=df[\"Tokens_with_Bigrams\"],\n",
    "                        corpus=corpus,\n",
    "                        dictionary=dictionary,\n",
    "                        coherence='c_v')\n",
    "    cs = cm.get_coherence()\n",
    "    score.append(cs)\n",
    "    print(f\"i: {i} || Score: {cs}\")\n",
    "\n",
    "plt.plot(topics, score)\n",
    "plt.xlabel('Number of Topics')\n",
    "plt.ylabel('Coherence Score')\n",
    "plt.show()"
   ]
  },
  {
   "cell_type": "code",
   "execution_count": 183,
   "id": "78dde1bd",
   "metadata": {},
   "outputs": [],
   "source": [
    "lda_model = LdaMulticore(corpus=corpus,\n",
    "                         id2word=dictionary,\n",
    "                         iterations=100,\n",
    "                         num_topics=5,\n",
    "                         workers=4,\n",
    "                         passes=100)"
   ]
  },
  {
   "cell_type": "code",
   "execution_count": 184,
   "id": "c05a18f0",
   "metadata": {},
   "outputs": [
    {
     "data": {
      "text/plain": [
       "[(0,\n",
       "  '0.018*\"system\" + 0.013*\"model\" + 0.013*\"software\" + 0.011*\"language\" + 0.009*\"program\" + 0.007*\"base\" + 0.006*\"design\" + 0.006*\"development\" + 0.005*\"approach\" + 0.005*\"programming\"'),\n",
       " (1,\n",
       "  '0.012*\"system\" + 0.010*\"design\" + 0.009*\"user\" + 0.008*\"problem\" + 0.007*\"research\" + 0.006*\"base\" + 0.006*\"agent\" + 0.006*\"environment\" + 0.005*\"interaction\" + 0.005*\"study\"'),\n",
       " (2,\n",
       "  '0.010*\"model\" + 0.009*\"method\" + 0.009*\"image\" + 0.009*\"algorithm\" + 0.007*\"base\" + 0.007*\"problem\" + 0.007*\"datum\" + 0.006*\"feature\" + 0.005*\"approach\" + 0.005*\"propose\"'),\n",
       " (3,\n",
       "  '0.015*\"network\" + 0.011*\"service\" + 0.009*\"application\" + 0.009*\"system\" + 0.007*\"performance\" + 0.007*\"resource\" + 0.006*\"cloud\" + 0.006*\"datum\" + 0.005*\"computing\" + 0.005*\"base\"'),\n",
       " (4,\n",
       "  '0.011*\"datum\" + 0.010*\"information\" + 0.010*\"system\" + 0.009*\"network\" + 0.007*\"research\" + 0.007*\"model\" + 0.006*\"study\" + 0.005*\"analysis\" + 0.005*\"security\" + 0.005*\"neural\"')]"
      ]
     },
     "execution_count": 184,
     "metadata": {},
     "output_type": "execute_result"
    }
   ],
   "source": [
    "lda_model.print_topics(-1)"
   ]
  },
  {
   "cell_type": "markdown",
   "id": "8401d94e",
   "metadata": {},
   "source": [
    "## HDP\n",
    "\n",
    "Hierarchical Dirichlet Process (HDP) is an unsupervised topic model which figures out the number of topics on its own."
   ]
  },
  {
   "cell_type": "code",
   "execution_count": 152,
   "id": "7377543a",
   "metadata": {},
   "outputs": [
    {
     "data": {
      "text/plain": [
       "[(0,\n",
       "  '0.009*system + 0.007*model + 0.006*thesis + 0.006*base + 0.005*datum + 0.004*problem + 0.004*network + 0.004*approach + 0.004*method + 0.004*application + 0.004*design + 0.004*research + 0.003*user + 0.003*information + 0.003*technique + 0.003*algorithm + 0.003*use + 0.003*time + 0.003*study + 0.003*propose'),\n",
       " (1,\n",
       "  '0.012*system + 0.007*model + 0.006*thesis + 0.006*base + 0.005*network + 0.004*design + 0.004*problem + 0.004*application + 0.004*approach + 0.004*research + 0.004*datum + 0.004*information + 0.003*use + 0.003*user + 0.003*process + 0.003*method + 0.003*technique + 0.003*study + 0.003*software + 0.003*time'),\n",
       " (2,\n",
       "  '0.010*system + 0.007*model + 0.006*base + 0.005*thesis + 0.005*problem + 0.004*datum + 0.004*approach + 0.004*design + 0.004*technique + 0.004*method + 0.004*software + 0.004*language + 0.004*network + 0.004*information + 0.004*time + 0.003*application + 0.003*use + 0.003*research + 0.003*process + 0.003*development'),\n",
       " (3,\n",
       "  '0.008*system + 0.004*base + 0.004*method + 0.004*design + 0.003*thesis + 0.003*model + 0.003*information + 0.003*language + 0.003*user + 0.003*approach + 0.002*algorithm + 0.002*software + 0.002*problem + 0.002*process + 0.002*application + 0.002*technique + 0.002*computer + 0.002*set + 0.002*object + 0.002*time'),\n",
       " (4,\n",
       "  '0.005*system + 0.004*software + 0.003*model + 0.003*datum + 0.003*user + 0.002*design + 0.002*base + 0.002*information + 0.002*thesis + 0.002*problem + 0.002*approach + 0.002*use + 0.002*program + 0.001*research + 0.001*process + 0.001*method + 0.001*new + 0.001*present + 0.001*computer + 0.001*develop'),\n",
       " (5,\n",
       "  '0.005*system + 0.002*design + 0.002*problem + 0.002*application + 0.002*model + 0.002*thesis + 0.002*network + 0.002*process + 0.001*datum + 0.001*technique + 0.001*base + 0.001*software + 0.001*method + 0.001*work + 0.001*information + 0.001*computer + 0.001*management + 0.001*new + 0.001*programming + 0.001*support'),\n",
       " (6,\n",
       "  '0.004*system + 0.003*knowledge + 0.002*network + 0.002*base + 0.002*algorithm + 0.002*design + 0.002*model + 0.001*problem + 0.001*thesis + 0.001*method + 0.001*propose + 0.001*information + 0.001*application + 0.001*present + 0.001*framework + 0.001*neural + 0.001*genetic + 0.001*neural-network + 0.001*performance + 0.001*adaptive'),\n",
       " (7,\n",
       "  '0.002*system + 0.002*algorithm + 0.002*fuzzy + 0.001*datum + 0.001*problem + 0.001*base + 0.001*thesis + 0.001*method + 0.001*map + 0.001*network + 0.001*new + 0.001*model + 0.001*set + 0.001*knowledge + 0.001*technique + 0.001*approach + 0.001*logic + 0.001*develop + 0.001*control + 0.001*application'),\n",
       " (8,\n",
       "  '0.002*system + 0.002*program + 0.002*database + 0.002*functional + 0.002*language + 0.001*distribute + 0.001*semantic + 0.001*thesis + 0.001*design + 0.001*programming + 0.001*real-time + 0.001*evaluation + 0.001*new + 0.001*computer + 0.001*time + 0.001*function + 0.001*application + 0.001*parallel + 0.001*analysis + 0.001*logic'),\n",
       " (9,\n",
       "  '0.002*system + 0.002*model + 0.002*information + 0.002*goal + 0.001*distribute + 0.001*agent + 0.001*design + 0.001*object + 0.001*program + 0.001*theory + 0.001*network + 0.001*thesis + 0.001*dialogue + 0.001*structure + 0.001*distribute-program + 0.001*base + 0.001*architecture + 0.001*research + 0.001*privacy + 0.001*communication'),\n",
       " (10,\n",
       "  '0.003*system + 0.001*language + 0.001*model + 0.001*base + 0.001*agent + 0.001*computer + 0.001*network + 0.001*logic + 0.001*design + 0.001*analysis + 0.001*priority + 0.001*functional + 0.001*new + 0.001*paradigm + 0.001*artist + 0.001*use + 0.001*thesis + 0.001*mobile + 0.001*support + 0.001*consider'),\n",
       " (11,\n",
       "  '0.002*system + 0.001*base + 0.001*method + 0.001*development + 0.001*stereo + 0.001*environment + 0.001*application + 0.001*mobile + 0.001*support + 0.001*computing + 0.001*new + 0.001*prediction + 0.001*test + 0.001*research + 0.001*model + 0.001*mobile-computing + 0.001*testing + 0.000*implementation + 0.000*thesis + 0.000*image'),\n",
       " (12,\n",
       "  '0.001*design + 0.001*system + 0.001*problem + 0.001*technique + 0.001*model + 0.001*software + 0.001*process + 0.001*approach + 0.001*engineering + 0.001*simulation + 0.001*datum + 0.001*use + 0.001*present + 0.001*parallel + 0.001*software-engineering + 0.001*thesis + 0.001*feature + 0.001*algorithm + 0.001*prediction + 0.001*knowledge'),\n",
       " (13,\n",
       "  '0.002*model + 0.001*system + 0.001*base + 0.001*design + 0.001*problem + 0.001*scheduling + 0.001*lift + 0.001*datum + 0.001*method + 0.001*use + 0.001*definitive + 0.001*programming + 0.001*query + 0.001*program + 0.001*object + 0.001*approach + 0.000*computer + 0.000*principle + 0.000*level + 0.000*process'),\n",
       " (14,\n",
       "  '0.001*system + 0.001*parallel + 0.001*array + 0.001*performance + 0.001*application + 0.001*language + 0.001*base + 0.001*technique + 0.001*software + 0.001*high + 0.001*datum + 0.001*thesis + 0.001*formal + 0.001*resource + 0.001*transputer + 0.001*grid + 0.000*management + 0.000*environment + 0.000*algorithm + 0.000*information'),\n",
       " (15,\n",
       "  '0.001*system + 0.001*distribute + 0.001*network + 0.001*viewpoint + 0.001*specification + 0.001*design + 0.001*development + 0.001*protocol + 0.001*process + 0.001*computation + 0.001*model + 0.001*computer + 0.001*base + 0.001*support + 0.001*approach + 0.001*time + 0.000*authentication-protocol + 0.000*problem + 0.000*analysis + 0.000*technique'),\n",
       " (16,\n",
       "  '0.001*model + 0.001*system + 0.001*estimation + 0.001*software + 0.001*courseware + 0.001*video + 0.001*design + 0.001*language + 0.001*effort-estimation + 0.001*development + 0.001*effort + 0.001*translation + 0.001*thesis + 0.001*content + 0.001*base + 0.001*method + 0.001*study + 0.001*approach + 0.001*content-base + 0.001*programming'),\n",
       " (17,\n",
       "  '0.002*software + 0.001*system + 0.001*quality + 0.001*process + 0.001*development + 0.001*integration + 0.001*language + 0.001*software-development + 0.001*environment + 0.001*interface + 0.001*module + 0.001*industry + 0.001*natural + 0.001*hypermedia + 0.001*tool + 0.001*manufacturing + 0.001*information + 0.001*modular + 0.001*model + 0.001*technique'),\n",
       " (18,\n",
       "  '0.001*system + 0.001*base + 0.001*agent + 0.001*thesis + 0.001*model + 0.001*design + 0.001*object + 0.001*theory + 0.001*architecture + 0.001*datum + 0.001*distribute + 0.001*language + 0.000*object-base + 0.000*describe + 0.000*multi + 0.000*dimensional + 0.000*application + 0.000*curve + 0.000*computer + 0.000*attempt'),\n",
       " (19,\n",
       "  '0.001*system + 0.001*software + 0.001*method + 0.001*algorithm + 0.001*model + 0.001*logic + 0.001*inspection + 0.001*groupware + 0.001*disk + 0.000*pitch + 0.000*base + 0.000*head + 0.000*give + 0.000*speech + 0.000*term + 0.000*z + 0.000*inconsistency + 0.000*distribute + 0.000*time + 0.000*quality')]"
      ]
     },
     "execution_count": 152,
     "metadata": {},
     "output_type": "execute_result"
    }
   ],
   "source": [
    "hdp_model = HdpModel(corpus=corpus, id2word=dictionary)\n",
    "hdp_model.show_topics()"
   ]
  },
  {
   "cell_type": "markdown",
   "id": "9491b8d1",
   "metadata": {},
   "source": [
    "Why are words like 'system', 'thesis', 'method' coming up in the topics? I thought we were meant to delete these from the dictionary?\n",
    "\n",
    "Going to remove them and try again and use TFIDF stuff..."
   ]
  },
  {
   "cell_type": "code",
   "execution_count": null,
   "id": "6c115d63",
   "metadata": {},
   "outputs": [],
   "source": []
  },
  {
   "cell_type": "code",
   "execution_count": null,
   "id": "d3afa30f",
   "metadata": {},
   "outputs": [],
   "source": []
  },
  {
   "cell_type": "code",
   "execution_count": null,
   "id": "a238b946",
   "metadata": {},
   "outputs": [],
   "source": []
  },
  {
   "cell_type": "code",
   "execution_count": null,
   "id": "929d5006",
   "metadata": {},
   "outputs": [],
   "source": []
  },
  {
   "cell_type": "markdown",
   "id": "9399729d",
   "metadata": {},
   "source": [
    "## Just counting frequencies\n",
    "\n",
    "Okay, lets not do topic modelling to find trends, let's just count frequencies of words and bigrams...\n",
    "\n",
    "Every single word/bigram is going to be a row, and then we also record the year of the thesis. We use this to create a pivot table on the words and aggregate by decade. Focusing on just titles for now..."
   ]
  },
  {
   "cell_type": "code",
   "execution_count": null,
   "id": "292e37ce",
   "metadata": {},
   "outputs": [],
   "source": []
  },
  {
   "cell_type": "code",
   "execution_count": null,
   "id": "b5dea2bd",
   "metadata": {},
   "outputs": [],
   "source": []
  },
  {
   "cell_type": "code",
   "execution_count": null,
   "id": "f99eccf7",
   "metadata": {},
   "outputs": [],
   "source": []
  },
  {
   "cell_type": "code",
   "execution_count": null,
   "id": "f62812a9",
   "metadata": {},
   "outputs": [],
   "source": []
  },
  {
   "cell_type": "code",
   "execution_count": null,
   "id": "d3421c2e",
   "metadata": {},
   "outputs": [],
   "source": []
  },
  {
   "cell_type": "code",
   "execution_count": null,
   "id": "ee93cf3b",
   "metadata": {},
   "outputs": [],
   "source": []
  }
 ],
 "metadata": {
  "kernelspec": {
   "display_name": "ethosTDS",
   "language": "python",
   "name": "ethostds"
  },
  "language_info": {
   "codemirror_mode": {
    "name": "ipython",
    "version": 3
   },
   "file_extension": ".py",
   "mimetype": "text/x-python",
   "name": "python",
   "nbconvert_exporter": "python",
   "pygments_lexer": "ipython3",
   "version": "3.10.6"
  }
 },
 "nbformat": 4,
 "nbformat_minor": 5
}
