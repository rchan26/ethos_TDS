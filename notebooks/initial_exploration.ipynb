{
 "cells": [
  {
   "cell_type": "code",
   "execution_count": 6,
   "id": "8d5a7378",
   "metadata": {},
   "outputs": [],
   "source": [
    "import numpy as np\n",
    "import pandas as pd\n",
    "from matplotlib import pyplot as plt\n",
    "import linecache"
   ]
  },
  {
   "cell_type": "markdown",
   "id": "e6cb63f3",
   "metadata": {},
   "source": [
    "Download \"EThOS_CSV_202210.csv\" from [British Library Research Repository](https://bl.iro.bl.uk/concern/datasets/480ce636-ab7c-4b80-8512-08e372dbf08a)\n",
    "\n",
    "**To Do:**\n",
    "- Copy over and adapt code to download script from Markus' notebook"
   ]
  },
  {
   "cell_type": "code",
   "execution_count": 7,
   "id": "e02729bd",
   "metadata": {},
   "outputs": [
    {
     "name": "stderr",
     "output_type": "stream",
     "text": [
      "/var/folders/l7/bnn1j6bs3bqfskq2jlq55yh80000gr/T/ipykernel_26930/3604971026.py:2: DtypeWarning: Columns (7) have mixed types. Specify dtype option on import or set low_memory=False.\n",
      "  df = pd.read_csv(csv_file, encoding=\"ISO-8859-2\")\n"
     ]
    },
    {
     "data": {
      "text/html": [
       "<div>\n",
       "<style scoped>\n",
       "    .dataframe tbody tr th:only-of-type {\n",
       "        vertical-align: middle;\n",
       "    }\n",
       "\n",
       "    .dataframe tbody tr th {\n",
       "        vertical-align: top;\n",
       "    }\n",
       "\n",
       "    .dataframe thead th {\n",
       "        text-align: right;\n",
       "    }\n",
       "</style>\n",
       "<table border=\"1\" class=\"dataframe\">\n",
       "  <thead>\n",
       "    <tr style=\"text-align: right;\">\n",
       "      <th></th>\n",
       "      <th>Title</th>\n",
       "      <th>DOI</th>\n",
       "      <th>Author</th>\n",
       "      <th>Author ISNI</th>\n",
       "      <th>ORCID</th>\n",
       "      <th>Institution</th>\n",
       "      <th>Institution ISNI</th>\n",
       "      <th>Date</th>\n",
       "      <th>Qualification</th>\n",
       "      <th>Abstract</th>\n",
       "      <th>Subject Discipline</th>\n",
       "      <th>Supervisor(s)</th>\n",
       "      <th>Funder(s)</th>\n",
       "      <th>EThOS URL</th>\n",
       "      <th>IR URL</th>\n",
       "    </tr>\n",
       "  </thead>\n",
       "  <tbody>\n",
       "    <tr>\n",
       "      <th>0</th>\n",
       "      <td>Computation and measurement of turbulent flow ...</td>\n",
       "      <td></td>\n",
       "      <td>Loizou, Panos A.</td>\n",
       "      <td>https://isni.org/isni/0000000136122593</td>\n",
       "      <td></td>\n",
       "      <td>University of Manchester</td>\n",
       "      <td>https://isni.org/isni/0000000121662407</td>\n",
       "      <td>1989</td>\n",
       "      <td>Thesis (Ph.D.)</td>\n",
       "      <td></td>\n",
       "      <td>Physical Sciences</td>\n",
       "      <td></td>\n",
       "      <td></td>\n",
       "      <td>https://ethos.bl.uk/OrderDetails.do?uin=uk.bl....</td>\n",
       "      <td></td>\n",
       "    </tr>\n",
       "    <tr>\n",
       "      <th>1</th>\n",
       "      <td>Prolactin and growth hormone secretion in norm...</td>\n",
       "      <td></td>\n",
       "      <td>Prescott, R. W. G.</td>\n",
       "      <td>https://isni.org/isni/0000000134992122</td>\n",
       "      <td></td>\n",
       "      <td>University of Newcastle upon Tyne</td>\n",
       "      <td>https://isni.org/isni/0000000104627212</td>\n",
       "      <td>1983</td>\n",
       "      <td>Thesis (Ph.D.)</td>\n",
       "      <td></td>\n",
       "      <td>Biological Sciences</td>\n",
       "      <td></td>\n",
       "      <td></td>\n",
       "      <td>https://ethos.bl.uk/OrderDetails.do?uin=uk.bl....</td>\n",
       "      <td></td>\n",
       "    </tr>\n",
       "    <tr>\n",
       "      <th>2</th>\n",
       "      <td>Influence of strain fields on flame propagation</td>\n",
       "      <td></td>\n",
       "      <td>Mendes-Lopes, J. M. C.</td>\n",
       "      <td>https://isni.org/isni/0000000133937105</td>\n",
       "      <td></td>\n",
       "      <td>University of Cambridge</td>\n",
       "      <td>https://isni.org/isni/0000000121885934</td>\n",
       "      <td>1983</td>\n",
       "      <td>Thesis (Ph.D.)</td>\n",
       "      <td>Flame propagation can be highly influenced by ...</td>\n",
       "      <td>Engineering &amp; Technology</td>\n",
       "      <td></td>\n",
       "      <td></td>\n",
       "      <td>https://ethos.bl.uk/OrderDetails.do?uin=uk.bl....</td>\n",
       "      <td></td>\n",
       "    </tr>\n",
       "    <tr>\n",
       "      <th>3</th>\n",
       "      <td>Connectivity, flow and transport in network mo...</td>\n",
       "      <td></td>\n",
       "      <td>Robinson, Peter Clive</td>\n",
       "      <td>https://isni.org/isni/0000000135292822</td>\n",
       "      <td></td>\n",
       "      <td>University of Oxford</td>\n",
       "      <td>https://isni.org/isni/0000000419368948</td>\n",
       "      <td>1984</td>\n",
       "      <td>Thesis (Ph.D.)</td>\n",
       "      <td>In order to evaluate the safety of radioactive...</td>\n",
       "      <td>Physical Sciences</td>\n",
       "      <td>Rae, John</td>\n",
       "      <td></td>\n",
       "      <td>https://ethos.bl.uk/OrderDetails.do?uin=uk.bl....</td>\n",
       "      <td>http://ora.ox.ac.uk/objects/uuid:c61bf73b-b794...</td>\n",
       "    </tr>\n",
       "    <tr>\n",
       "      <th>4</th>\n",
       "      <td>The theory and implementation of a high qualit...</td>\n",
       "      <td></td>\n",
       "      <td>Lower, K. N.</td>\n",
       "      <td>https://isni.org/isni/0000000136133567</td>\n",
       "      <td></td>\n",
       "      <td>University of Bristol</td>\n",
       "      <td>https://isni.org/isni/0000000419367603</td>\n",
       "      <td>1985</td>\n",
       "      <td>Thesis (Ph.D.)</td>\n",
       "      <td></td>\n",
       "      <td>Engineering &amp; Technology</td>\n",
       "      <td></td>\n",
       "      <td></td>\n",
       "      <td>https://ethos.bl.uk/OrderDetails.do?uin=uk.bl....</td>\n",
       "      <td></td>\n",
       "    </tr>\n",
       "  </tbody>\n",
       "</table>\n",
       "</div>"
      ],
      "text/plain": [
       "                                               Title DOI  \\\n",
       "0  Computation and measurement of turbulent flow ...       \n",
       "1  Prolactin and growth hormone secretion in norm...       \n",
       "2    Influence of strain fields on flame propagation       \n",
       "3  Connectivity, flow and transport in network mo...       \n",
       "4  The theory and implementation of a high qualit...       \n",
       "\n",
       "                   Author                             Author ISNI ORCID  \\\n",
       "0        Loizou, Panos A.  https://isni.org/isni/0000000136122593         \n",
       "1      Prescott, R. W. G.  https://isni.org/isni/0000000134992122         \n",
       "2  Mendes-Lopes, J. M. C.  https://isni.org/isni/0000000133937105         \n",
       "3   Robinson, Peter Clive  https://isni.org/isni/0000000135292822         \n",
       "4            Lower, K. N.  https://isni.org/isni/0000000136133567         \n",
       "\n",
       "                         Institution                        Institution ISNI  \\\n",
       "0           University of Manchester  https://isni.org/isni/0000000121662407   \n",
       "1  University of Newcastle upon Tyne  https://isni.org/isni/0000000104627212   \n",
       "2            University of Cambridge  https://isni.org/isni/0000000121885934   \n",
       "3               University of Oxford  https://isni.org/isni/0000000419368948   \n",
       "4              University of Bristol  https://isni.org/isni/0000000419367603   \n",
       "\n",
       "   Date   Qualification                                           Abstract  \\\n",
       "0  1989  Thesis (Ph.D.)                                                      \n",
       "1  1983  Thesis (Ph.D.)                                                      \n",
       "2  1983  Thesis (Ph.D.)  Flame propagation can be highly influenced by ...   \n",
       "3  1984  Thesis (Ph.D.)  In order to evaluate the safety of radioactive...   \n",
       "4  1985  Thesis (Ph.D.)                                                      \n",
       "\n",
       "         Subject Discipline Supervisor(s) Funder(s)  \\\n",
       "0         Physical Sciences                           \n",
       "1       Biological Sciences                           \n",
       "2  Engineering & Technology                           \n",
       "3         Physical Sciences     Rae, John             \n",
       "4  Engineering & Technology                           \n",
       "\n",
       "                                           EThOS URL  \\\n",
       "0  https://ethos.bl.uk/OrderDetails.do?uin=uk.bl....   \n",
       "1  https://ethos.bl.uk/OrderDetails.do?uin=uk.bl....   \n",
       "2  https://ethos.bl.uk/OrderDetails.do?uin=uk.bl....   \n",
       "3  https://ethos.bl.uk/OrderDetails.do?uin=uk.bl....   \n",
       "4  https://ethos.bl.uk/OrderDetails.do?uin=uk.bl....   \n",
       "\n",
       "                                              IR URL  \n",
       "0                                                     \n",
       "1                                                     \n",
       "2                                                     \n",
       "3  http://ora.ox.ac.uk/objects/uuid:c61bf73b-b794...  \n",
       "4                                                     "
      ]
     },
     "execution_count": 7,
     "metadata": {},
     "output_type": "execute_result"
    }
   ],
   "source": [
    "csv_file = \"../EThOS_CSV_202210.csv\"\n",
    "df = pd.read_csv(csv_file, encoding=\"ISO-8859-2\")\n",
    "df.head()"
   ]
  },
  {
   "cell_type": "code",
   "execution_count": 8,
   "id": "876bfd31",
   "metadata": {
    "scrolled": true
   },
   "outputs": [
    {
     "data": {
      "text/plain": [
       "610535"
      ]
     },
     "execution_count": 8,
     "metadata": {},
     "output_type": "execute_result"
    }
   ],
   "source": [
    "len(df)"
   ]
  },
  {
   "cell_type": "code",
   "execution_count": 9,
   "id": "412b0cf4",
   "metadata": {},
   "outputs": [
    {
     "data": {
      "text/plain": [
       "Index(['Title', 'DOI', 'Author', 'Author ISNI', 'ORCID', 'Institution',\n",
       "       'Institution ISNI', 'Date', 'Qualification', 'Abstract',\n",
       "       'Subject Discipline', 'Supervisor(s)', 'Funder(s)', 'EThOS URL',\n",
       "       'IR URL'],\n",
       "      dtype='object')"
      ]
     },
     "execution_count": 9,
     "metadata": {},
     "output_type": "execute_result"
    }
   ],
   "source": [
    "df.columns"
   ]
  },
  {
   "cell_type": "markdown",
   "id": "1be1c659",
   "metadata": {},
   "source": [
    "## Looking for NaNs"
   ]
  },
  {
   "cell_type": "code",
   "execution_count": 10,
   "id": "28650100",
   "metadata": {},
   "outputs": [
    {
     "name": "stdout",
     "output_type": "stream",
     "text": [
      "Number of rows with NaNs: 3\n"
     ]
    }
   ],
   "source": [
    "print(f\"Number of rows with NaNs: {df.isnull().any(axis=1).sum()}\")"
   ]
  },
  {
   "cell_type": "markdown",
   "id": "59222075",
   "metadata": {},
   "source": [
    "which columns do these occur?"
   ]
  },
  {
   "cell_type": "code",
   "execution_count": 11,
   "id": "aa972d6a",
   "metadata": {},
   "outputs": [
    {
     "data": {
      "text/plain": [
       "['Title: False',\n",
       " 'DOI: False',\n",
       " 'Author: False',\n",
       " 'Author ISNI: False',\n",
       " 'ORCID: False',\n",
       " 'Institution: False',\n",
       " 'Institution ISNI: False',\n",
       " 'Date: False',\n",
       " 'Qualification: False',\n",
       " 'Abstract: False',\n",
       " 'Subject Discipline: False',\n",
       " 'Supervisor(s): False',\n",
       " 'Funder(s): True',\n",
       " 'EThOS URL: False',\n",
       " 'IR URL: True']"
      ]
     },
     "execution_count": 11,
     "metadata": {},
     "output_type": "execute_result"
    }
   ],
   "source": [
    "[f\"{col}: {df[col].isnull().any()}\" for col in df.columns]"
   ]
  },
  {
   "cell_type": "markdown",
   "id": "7813b321",
   "metadata": {},
   "source": [
    "Looks like there's some in `Funder(s)` and `IR URL`..."
   ]
  },
  {
   "cell_type": "markdown",
   "id": "60100922",
   "metadata": {},
   "source": [
    "## Fixing NaN in `IR URL` column"
   ]
  },
  {
   "cell_type": "code",
   "execution_count": 12,
   "id": "f14fda0a",
   "metadata": {},
   "outputs": [
    {
     "data": {
      "text/html": [
       "<div>\n",
       "<style scoped>\n",
       "    .dataframe tbody tr th:only-of-type {\n",
       "        vertical-align: middle;\n",
       "    }\n",
       "\n",
       "    .dataframe tbody tr th {\n",
       "        vertical-align: top;\n",
       "    }\n",
       "\n",
       "    .dataframe thead th {\n",
       "        text-align: right;\n",
       "    }\n",
       "</style>\n",
       "<table border=\"1\" class=\"dataframe\">\n",
       "  <thead>\n",
       "    <tr style=\"text-align: right;\">\n",
       "      <th></th>\n",
       "      <th>Title</th>\n",
       "      <th>DOI</th>\n",
       "      <th>Author</th>\n",
       "      <th>Author ISNI</th>\n",
       "      <th>ORCID</th>\n",
       "      <th>Institution</th>\n",
       "      <th>Institution ISNI</th>\n",
       "      <th>Date</th>\n",
       "      <th>Qualification</th>\n",
       "      <th>Abstract</th>\n",
       "      <th>Subject Discipline</th>\n",
       "      <th>Supervisor(s)</th>\n",
       "      <th>Funder(s)</th>\n",
       "      <th>EThOS URL</th>\n",
       "      <th>IR URL</th>\n",
       "    </tr>\n",
       "  </thead>\n",
       "  <tbody>\n",
       "    <tr>\n",
       "      <th>278145</th>\n",
       "      <td>Archaeological Museums and Schools : Teaching ...</td>\n",
       "      <td>Arwa\"</td>\n",
       "      <td>https://isni.org/isni/0000000426923620</td>\n",
       "      <td></td>\n",
       "      <td>University of Newcastle upon Tyne</td>\n",
       "      <td>https://isni.org/isni/0000000104627212</td>\n",
       "      <td>2010</td>\n",
       "      <td>Thesis (Ph.D.)</td>\n",
       "      <td></td>\n",
       "      <td>Education</td>\n",
       "      <td></td>\n",
       "      <td></td>\n",
       "      <td>https://ethos.bl.uk/OrderDetails.do?uin=uk.bl....</td>\n",
       "      <td></td>\n",
       "      <td>NaN</td>\n",
       "    </tr>\n",
       "    <tr>\n",
       "      <th>353875</th>\n",
       "      <td>Shall I say 'tis so?' : Elizabethan fictions a...</td>\n",
       "      <td>J. K.\"</td>\n",
       "      <td></td>\n",
       "      <td></td>\n",
       "      <td>University of Cambridge</td>\n",
       "      <td>https://isni.org/isni/0000000121885934</td>\n",
       "      <td>2010</td>\n",
       "      <td>Thesis (Ph.D.)</td>\n",
       "      <td>This thesis concerns emergent representations ...</td>\n",
       "      <td>Language &amp; Literature</td>\n",
       "      <td></td>\n",
       "      <td></td>\n",
       "      <td>https://ethos.bl.uk/OrderDetails.do?uin=uk.bl....</td>\n",
       "      <td></td>\n",
       "      <td>NaN</td>\n",
       "    </tr>\n",
       "  </tbody>\n",
       "</table>\n",
       "</div>"
      ],
      "text/plain": [
       "                                                    Title      DOI  \\\n",
       "278145  Archaeological Museums and Schools : Teaching ...    Arwa\"   \n",
       "353875  Shall I say 'tis so?' : Elizabethan fictions a...   J. K.\"   \n",
       "\n",
       "                                        Author Author ISNI  \\\n",
       "278145  https://isni.org/isni/0000000426923620               \n",
       "353875                                                       \n",
       "\n",
       "                                    ORCID  \\\n",
       "278145  University of Newcastle upon Tyne   \n",
       "353875            University of Cambridge   \n",
       "\n",
       "                                   Institution Institution ISNI  \\\n",
       "278145  https://isni.org/isni/0000000104627212             2010   \n",
       "353875  https://isni.org/isni/0000000121885934             2010   \n",
       "\n",
       "                  Date                                      Qualification  \\\n",
       "278145  Thesis (Ph.D.)                                                      \n",
       "353875  Thesis (Ph.D.)  This thesis concerns emergent representations ...   \n",
       "\n",
       "                     Abstract Subject Discipline Supervisor(s)  \\\n",
       "278145              Education                                    \n",
       "353875  Language & Literature                                    \n",
       "\n",
       "                                                Funder(s) EThOS URL IR URL  \n",
       "278145  https://ethos.bl.uk/OrderDetails.do?uin=uk.bl....              NaN  \n",
       "353875  https://ethos.bl.uk/OrderDetails.do?uin=uk.bl....              NaN  "
      ]
     },
     "execution_count": 12,
     "metadata": {},
     "output_type": "execute_result"
    }
   ],
   "source": [
    "df[df[\"IR URL\"].isnull()]"
   ]
  },
  {
   "cell_type": "code",
   "execution_count": 13,
   "id": "675c8a6d",
   "metadata": {},
   "outputs": [
    {
     "name": "stdout",
     "output_type": "stream",
     "text": [
      "\n"
     ]
    }
   ],
   "source": [
    "# extracting the 278145th item\n",
    "particular_line = linecache.getline('EThOS_CSV_202210.csv', 278145+2)\n",
    "# print the particular line\n",
    "print(particular_line)"
   ]
  },
  {
   "cell_type": "code",
   "execution_count": 14,
   "id": "4329c889",
   "metadata": {},
   "outputs": [
    {
     "name": "stdout",
     "output_type": "stream",
     "text": [
      "\n"
     ]
    }
   ],
   "source": [
    "# extracting the 353875th item\n",
    "particular_line = linecache.getline('EThOS_CSV_202210.csv', 353875+2)\n",
    "# print the particular line\n",
    "print(particular_line)"
   ]
  },
  {
   "cell_type": "markdown",
   "id": "b1af38c0",
   "metadata": {},
   "source": [
    "Seems like the problem here is that there is an unclosed quote at the start and so it misses out a column. We can fix this with the following:"
   ]
  },
  {
   "cell_type": "code",
   "execution_count": 15,
   "id": "58deb6cd",
   "metadata": {},
   "outputs": [],
   "source": [
    "def fix_IR_URL_null(df):\n",
    "    null_df = df[df[\"IR URL\"].isnull()]\n",
    "    for index, row in null_df.iterrows():\n",
    "        new_row = []\n",
    "        # Title\n",
    "        new_row.append(row[\"Title\"].split(\",\")[0])\n",
    "        # DOI\n",
    "        new_row.append(row[\"Title\"].split(\",\")[1])\n",
    "        # Author\n",
    "        first_name = row[\"Title\"].split(\",\")[2]\n",
    "        second_name = row[\"DOI\"][:-1]\n",
    "        new_row.append(first_name + second_name)\n",
    "        # Remaining columns\n",
    "        colnames = [col for col in df.columns\n",
    "                    if col not in [\"Title\", \"DOI\", \"IR URL\"]]\n",
    "        new_row += row[colnames].tolist()\n",
    "        df.loc[index] = new_row\n",
    "    return df\n",
    "\n",
    "df = fix_IR_URL_null(df)"
   ]
  },
  {
   "cell_type": "markdown",
   "id": "377555a8",
   "metadata": {},
   "source": [
    "## Fixing NaN in `Funder(s)` column"
   ]
  },
  {
   "cell_type": "code",
   "execution_count": 16,
   "id": "58229da2",
   "metadata": {
    "scrolled": true
   },
   "outputs": [
    {
     "data": {
      "text/html": [
       "<div>\n",
       "<style scoped>\n",
       "    .dataframe tbody tr th:only-of-type {\n",
       "        vertical-align: middle;\n",
       "    }\n",
       "\n",
       "    .dataframe tbody tr th {\n",
       "        vertical-align: top;\n",
       "    }\n",
       "\n",
       "    .dataframe thead th {\n",
       "        text-align: right;\n",
       "    }\n",
       "</style>\n",
       "<table border=\"1\" class=\"dataframe\">\n",
       "  <thead>\n",
       "    <tr style=\"text-align: right;\">\n",
       "      <th></th>\n",
       "      <th>Title</th>\n",
       "      <th>DOI</th>\n",
       "      <th>Author</th>\n",
       "      <th>Author ISNI</th>\n",
       "      <th>ORCID</th>\n",
       "      <th>Institution</th>\n",
       "      <th>Institution ISNI</th>\n",
       "      <th>Date</th>\n",
       "      <th>Qualification</th>\n",
       "      <th>Abstract</th>\n",
       "      <th>Subject Discipline</th>\n",
       "      <th>Supervisor(s)</th>\n",
       "      <th>Funder(s)</th>\n",
       "      <th>EThOS URL</th>\n",
       "      <th>IR URL</th>\n",
       "    </tr>\n",
       "  </thead>\n",
       "  <tbody>\n",
       "    <tr>\n",
       "      <th>272375</th>\n",
       "      <td>Integrated non-invasive investigations of capt...</td>\n",
       "      <td></td>\n",
       "      <td>Rabineau, Johanna Romy Maria</td>\n",
       "      <td>https://isni.org/isni/0000000426855875</td>\n",
       "      <td></td>\n",
       "      <td>University of Exeter</td>\n",
       "      <td>https://isni.org/isni/0000000419368024</td>\n",
       "      <td>2009</td>\n",
       "      <td>Thesis (Ph.D.)</td>\n",
       "      <td>The prime aim of the present study was to inve...</td>\n",
       "      <td>Biological Sciences</td>\n",
       "      <td>Brown, Anne</td>\n",
       "      <td>NaN</td>\n",
       "      <td>https://ethos.bl.uk/OrderDetails.do?uin=uk.bl....</td>\n",
       "      <td>http://hdl.handle.net/10036/106776</td>\n",
       "    </tr>\n",
       "  </tbody>\n",
       "</table>\n",
       "</div>"
      ],
      "text/plain": [
       "                                                    Title DOI  \\\n",
       "272375  Integrated non-invasive investigations of capt...       \n",
       "\n",
       "                              Author                             Author ISNI  \\\n",
       "272375  Rabineau, Johanna Romy Maria  https://isni.org/isni/0000000426855875   \n",
       "\n",
       "       ORCID           Institution                        Institution ISNI  \\\n",
       "272375        University of Exeter  https://isni.org/isni/0000000419368024   \n",
       "\n",
       "        Date   Qualification  \\\n",
       "272375  2009  Thesis (Ph.D.)   \n",
       "\n",
       "                                                 Abstract  \\\n",
       "272375  The prime aim of the present study was to inve...   \n",
       "\n",
       "         Subject Discipline Supervisor(s) Funder(s)  \\\n",
       "272375  Biological Sciences   Brown, Anne       NaN   \n",
       "\n",
       "                                                EThOS URL  \\\n",
       "272375  https://ethos.bl.uk/OrderDetails.do?uin=uk.bl....   \n",
       "\n",
       "                                    IR URL  \n",
       "272375  http://hdl.handle.net/10036/106776  "
      ]
     },
     "execution_count": 16,
     "metadata": {},
     "output_type": "execute_result"
    }
   ],
   "source": [
    "df[df[\"Funder(s)\"].isnull()]"
   ]
  },
  {
   "cell_type": "code",
   "execution_count": 17,
   "id": "2d5f685f",
   "metadata": {},
   "outputs": [
    {
     "name": "stdout",
     "output_type": "stream",
     "text": [
      "\n"
     ]
    }
   ],
   "source": [
    "# extracting the 272375th item\n",
    "particular_line = linecache.getline('EThOS_CSV_202210.csv', 272375+2)\n",
    "# print the particular line\n",
    "print(particular_line)"
   ]
  },
  {
   "cell_type": "markdown",
   "id": "60e42b60",
   "metadata": {},
   "source": [
    "Looks like `n/a` was put here, so we'll just fix this by replacing it with `' '` - which is the current convention in this dataset for missing data."
   ]
  },
  {
   "cell_type": "code",
   "execution_count": 18,
   "id": "5ba64a43",
   "metadata": {},
   "outputs": [],
   "source": [
    "df.fillna(' ', inplace=True)"
   ]
  },
  {
   "cell_type": "markdown",
   "id": "15268653",
   "metadata": {},
   "source": [
    "Just to double check that we've fixed the NaNs:"
   ]
  },
  {
   "cell_type": "code",
   "execution_count": 19,
   "id": "c684331a",
   "metadata": {},
   "outputs": [
    {
     "name": "stdout",
     "output_type": "stream",
     "text": [
      "Number of rows with NaNs: 0\n"
     ]
    }
   ],
   "source": [
    "print(f\"Number of rows with NaNs: {df.isnull().any(axis=1).sum()}\")"
   ]
  },
  {
   "cell_type": "code",
   "execution_count": 20,
   "id": "2b1dc0b1",
   "metadata": {},
   "outputs": [
    {
     "data": {
      "text/plain": [
       "False"
      ]
     },
     "execution_count": 20,
     "metadata": {},
     "output_type": "execute_result"
    }
   ],
   "source": [
    "df.isnull().any().any()"
   ]
  },
  {
   "cell_type": "markdown",
   "id": "f6e12179",
   "metadata": {},
   "source": [
    "To do this in one go, the `remove_na()` function in `remove_na.py` does both of these steps in one go. Note that this saves a new cleaned df as a csv in your current directory by default."
   ]
  },
  {
   "cell_type": "code",
   "execution_count": 21,
   "id": "f4629227",
   "metadata": {},
   "outputs": [],
   "source": [
    "from remove_na import remove_na\n",
    "df = remove_na(df)"
   ]
  },
  {
   "cell_type": "markdown",
   "id": "06d728d8",
   "metadata": {},
   "source": [
    "## Data missingness"
   ]
  },
  {
   "cell_type": "code",
   "execution_count": 22,
   "id": "8486db6d",
   "metadata": {
    "scrolled": true
   },
   "outputs": [
    {
     "name": "stdout",
     "output_type": "stream",
     "text": [
      "proportion of missing Title: 0.0\n",
      "proportion of missing DOI: 0.9121508185443914\n",
      "proportion of missing Author: 0.0\n",
      "proportion of missing Author ISNI: 0.21315731284856723\n",
      "proportion of missing ORCID: 0.9863120050447558\n",
      "proportion of missing Institution: 0.0\n",
      "proportion of missing Institution ISNI: 0.0009974858116242311\n",
      "proportion of missing Date: 6.551630946628777e-06\n",
      "proportion of missing Qualification: 0.006892315755853473\n",
      "proportion of missing Abstract: 0.40922305846511664\n",
      "proportion of missing Subject Discipline: 0.06691508267339301\n",
      "proportion of missing Supervisor(s): 0.7654581637416364\n",
      "proportion of missing Funder(s): 0.9072764051200995\n",
      "proportion of missing EThOS URL: 0.0\n",
      "proportion of missing IR URL: 0.3886099895992859\n"
     ]
    }
   ],
   "source": [
    "for col in df.columns:\n",
    "    print(f\"proportion of missing {col}: {sum(df[col]==' ') / len(df)}\")"
   ]
  },
  {
   "cell_type": "markdown",
   "id": "95a4ef05",
   "metadata": {},
   "source": [
    "- Every entry as `Title` and `Institution`\n",
    "- Some missing Authors\n",
    "- Some missing Dates\n",
    "- Have Abstracts for about 60\\% of entries\n",
    "- Most entries have a subject discipline"
   ]
  },
  {
   "cell_type": "code",
   "execution_count": 23,
   "id": "73b5ee2f",
   "metadata": {
    "scrolled": true
   },
   "outputs": [
    {
     "data": {
      "text/plain": [
       "University of Oxford                                42036\n",
       "University of Cambridge                             40043\n",
       "University of Edinburgh                             29376\n",
       "University College London (University of London)    27126\n",
       "Imperial College London                             26575\n",
       "                                                    ...  \n",
       "Wessex Institute of Technology                          1\n",
       "University of Wales, Newport                            1\n",
       "Royal Agricultural University                           1\n",
       "Trinity College, Bristol                                1\n",
       "Arts University Bournemouth                             1\n",
       "Name: Institution, Length: 159, dtype: int64"
      ]
     },
     "execution_count": 23,
     "metadata": {},
     "output_type": "execute_result"
    }
   ],
   "source": [
    "df[\"Institution\"].value_counts()"
   ]
  },
  {
   "cell_type": "code",
   "execution_count": 24,
   "id": "ef8f9160",
   "metadata": {},
   "outputs": [
    {
     "data": {
      "text/plain": [
       "Medicine & Health                             96561\n",
       "Physical Sciences                             86681\n",
       "Engineering & Technology                      76345\n",
       "Social, Economic & Political Studies          69651\n",
       "Biological Sciences                           61226\n",
       "                                              40854\n",
       "Philosophy, Psychology & Religious Studies    30129\n",
       "Language & Literature                         26320\n",
       "History & Archaeology                         18842\n",
       "Business & Administrative Studies             18530\n",
       "Education                                     18494\n",
       "Computer Science                              14401\n",
       "Mathematics & Statistics                      12692\n",
       "Agriculture & Veterinary Sciences             11934\n",
       "Law                                            7069\n",
       "Creative Arts & Design                         5898\n",
       "Architecture, Building & Planning              4806\n",
       "Sport & Recreation                             4527\n",
       "Music                                          3487\n",
       "Librarianship & Information Science            2088\n",
       "Name: Subject Discipline, dtype: int64"
      ]
     },
     "execution_count": 24,
     "metadata": {},
     "output_type": "execute_result"
    }
   ],
   "source": [
    "df[\"Subject Discipline\"].value_counts()"
   ]
  }
 ],
 "metadata": {
  "kernelspec": {
   "display_name": "ethosTDS",
   "language": "python",
   "name": "ethostds"
  },
  "language_info": {
   "codemirror_mode": {
    "name": "ipython",
    "version": 3
   },
   "file_extension": ".py",
   "mimetype": "text/x-python",
   "name": "python",
   "nbconvert_exporter": "python",
   "pygments_lexer": "ipython3",
   "version": "3.10.6"
  }
 },
 "nbformat": 4,
 "nbformat_minor": 5
}
